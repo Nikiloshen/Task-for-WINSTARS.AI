{
 "cells": [
  {
   "cell_type": "markdown",
   "metadata": {},
   "source": [
    "# 1. Installation"
   ]
  },
  {
   "cell_type": "code",
   "execution_count": null,
   "metadata": {},
   "outputs": [],
   "source": [
    "!pip install -r requirements.txt"
   ]
  },
  {
   "cell_type": "markdown",
   "metadata": {},
   "source": [
    "# 2. Imports"
   ]
  },
  {
   "cell_type": "code",
   "execution_count": 2,
   "metadata": {},
   "outputs": [],
   "source": [
    "from mnist_classifier import MnistClassifier\n",
    "from sklearn.datasets import fetch_openml\n",
    "from torchsummary import summary\n",
    "import matplotlib.pyplot as plt\n",
    "import numpy as np\n",
    "import random"
   ]
  },
  {
   "cell_type": "markdown",
   "metadata": {},
   "source": [
    "# 3. Load MNIST"
   ]
  },
  {
   "cell_type": "code",
   "execution_count": 8,
   "metadata": {},
   "outputs": [],
   "source": [
    "mnist = fetch_openml('mnist_784', version=1, as_frame=False) # fetch mnist dataset from sklearn.datasets\n",
    "X, y = mnist.data, mnist.target.astype(np.uint8)"
   ]
  },
  {
   "cell_type": "markdown",
   "metadata": {},
   "source": [
    "# 4. Preprocessing"
   ]
  },
  {
   "cell_type": "code",
   "execution_count": 9,
   "metadata": {},
   "outputs": [],
   "source": [
    "X = X.reshape(-1, 28, 28)  # Required for CNN\n",
    "X_train, X_test = X[:60000] / 255.0, X[60000:] / 255.0\n",
    "y_train, y_test = y[:60000], y[60000:]"
   ]
  },
  {
   "cell_type": "markdown",
   "metadata": {},
   "source": [
    "# 5. Example Usage"
   ]
  },
  {
   "cell_type": "code",
   "execution_count": 6,
   "metadata": {},
   "outputs": [
    {
     "name": "stdout",
     "output_type": "stream",
     "text": [
      "RF Accuracy: 100.00%\n",
      "NN Accuracy: 99.00%\n",
      "CNN Accuracy: 99.00%\n"
     ]
    }
   ],
   "source": [
    "def train_and_evaluate(algorithm):\n",
    "    clf = MnistClassifier(algorithm=algorithm)\n",
    "    clf.train(X_train, y_train)\n",
    "    preds = clf.predict(X_test[:100])  # First 100 samples\n",
    "    accuracy = (preds == y_test[:100]).mean()\n",
    "    print(f\"{algorithm.upper()} Accuracy: {accuracy:.2%}\")\n",
    "\n",
    "train_and_evaluate('rf')\n",
    "train_and_evaluate('nn')\n",
    "train_and_evaluate('cnn')"
   ]
  },
  {
   "cell_type": "markdown",
   "metadata": {},
   "source": [
    "# 6. Visualization"
   ]
  },
  {
   "cell_type": "code",
   "execution_count": null,
   "metadata": {},
   "outputs": [
    {
     "data": {
      "image/png": "[encoded data removed]",
      "text/plain": [
       "<Figure size 500x500 with 1 Axes>"
      ]
     },
     "metadata": {},
     "output_type": "display_data"
    }
   ],
   "source": [
    "# Let's plot an example of image and our model's predictions\n",
    "\n",
    "def visualize_prediction(algorithms):\n",
    "    idx = random.randint(0, len(X_test) - 1)\n",
    "    image = X_test[idx].reshape(28, 28)\n",
    "\n",
    "    plt.figure(figsize=(5, 5))\n",
    "    plt.imshow(image, cmap='gray')\n",
    "    plt.axis('off')\n",
    "\n",
    "    predictions = []\n",
    "    for algo in algorithms:\n",
    "        clf = MnistClassifier(algorithm=algo)\n",
    "        clf.train(X_train, y_train)\n",
    "        pred = clf.predict(X_test[idx:idx+1])[0]\n",
    "        predictions.append(f\"{algo.upper()}: {pred}\")\n",
    "\n",
    "    plt.title(\"\\n\".join(predictions), fontsize=12, pad=10)\n",
    "    plt.show()\n",
    "\n",
    "visualize_prediction(['rf', 'nn', 'cnn'])"
   ]
  },
  {
   "cell_type": "markdown",
   "metadata": {},
   "source": [
    "# 7. Edge Cases"
   ]
  },
  {
   "cell_type": "code",
   "execution_count": 9,
   "metadata": {},
   "outputs": [
    {
     "name": "stdout",
     "output_type": "stream",
     "text": [
      "Error: Invalid algorithm. Choose 'rf', 'nn' or 'cnn'.\n",
      "Shape Error: Expected 3D (unbatched) or 4D (batched) input to conv2d, but got input of size: [784, 1]\n"
     ]
    }
   ],
   "source": [
    "# - Invalid algorithm name\n",
    "try:\n",
    "    clf = MnistClassifier(algorithm='invalid')\n",
    "except ValueError as e:\n",
    "    print(f\"Error: {e}\")\n",
    "\n",
    "# - Incorrect input shape\n",
    "try:\n",
    "    clf = MnistClassifier(algorithm='cnn')\n",
    "    clf.predict(X_test[0].flatten())  # Should be 28x28\n",
    "except Exception as e:\n",
    "    print(f\"Shape Error: {e}\")"
   ]
  }
 ],
 "metadata": {
  "kernelspec": {
   "display_name": "Python 3",
   "language": "python",
   "name": "python3"
  },
  "language_info": {
   "codemirror_mode": {
    "name": "ipython",
    "version": 3
   },
   "file_extension": ".py",
   "mimetype": "text/x-python",
   "name": "python",
   "nbconvert_exporter": "python",
   "pygments_lexer": "ipython3",
   "version": "3.10.8"
  }
 },
 "nbformat": 4,
 "nbformat_minor": 2
}
